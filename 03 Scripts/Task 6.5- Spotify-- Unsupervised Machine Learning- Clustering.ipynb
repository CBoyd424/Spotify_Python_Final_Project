{
 "cells": [
  {
   "cell_type": "markdown",
   "id": "5f362442",
   "metadata": {}, 
   "source": [
    "# Task 6.5: Spotify-- Unsupervised Machine Learning: Clustering"
   ]
  },
  {
   "cell_type": "markdown",
   "id": "3f016768",
   "metadata": {},
   "source": [
    "Contents:\n",
    "\n",
    "1. Importing libraries and data\n",
    "\n",
    "2. The elbow technique\n",
    "\n",
    "3. k-means clustering"
   ]
  },
  {
   "cell_type": "markdown",
   "id": "16a50f97",
   "metadata": {},
   "source": [
    "## 1.Importing Libraries & Data\n"
   ]
  },
  {
   "cell_type": "code",
   "execution_count": 2,
   "id": "c9f36fe4",
   "metadata": {},
   "outputs": [],
   "source": [
    "import pandas as pd\n",
    "import numpy as np\n",
    "import seaborn as sns\n",
    "import matplotlib\n",
    "import matplotlib.pyplot as plt\n",
    "import os\n",
    "import sklearn\n",
    "from sklearn.cluster import KMeans # Here is where you import the k-means algorithm from scikit-learn.\n",
    "import pylab as pl # PyLab is a convenience module that bulk imports matplotlib."
   ]
  },
  {
   "cell_type": "code",
   "execution_count": 3,
   "id": "5fefc613",
   "metadata": {},
   "outputs": [],
   "source": [
    "# This option ensures the graphs you create are displayed in your notebook without the need to \"call\" them specifically.\n",
    "\n",
    "%matplotlib inline"
   ]
  },
  {
   "cell_type": "code",
   "execution_count": 4,
   "id": "bdae34c3",
   "metadata": {},
   "outputs": [],
   "source": [
    "# Create a shortcut for project folder path as a string.\n",
    "path = r'/Users/cboyd/Documents/05-2022 Spotify Analysis'"
   ]
  },
  {
   "cell_type": "code",
   "execution_count": 5,
   "id": "66639315",
   "metadata": {},
   "outputs": [],
   "source": [
    "# Import the “Final database_clean.pkl” data set into your notebook using the os library.\n",
    "df = pd.read_pickle(os.path.join(path, '02 Data', 'Prepared Data', 'Final database_clean.pkl'))"
   ]
  },
  {
   "cell_type": "code",
   "execution_count": 6,
   "id": "542f091d",
   "metadata": {},
   "outputs": [
    {
     "data": {
      "text/plain": [
       "Index(['Country', 'Uri', 'Popularity', 'Title', 'Artist', 'Album/Single',\n",
       "       'Genre', 'Artist_followers', 'Explicit', 'Album',\n",
       "       ...\n",
       "       'Sweden', 'Switzerland', 'Taiwan', 'Turkey', 'UK', 'USA', 'Popu_max',\n",
       "       'Top10_dummy', 'Top50_dummy', 'Cluster'],\n",
       "      dtype='object', length=151)"
      ]
     },
     "execution_count": 6,
     "metadata": {},
     "output_type": "execute_result"
    }
   ],
   "source": [
    "df.columns"
   ]
  },
  {
   "cell_type": "code",
   "execution_count": 7,
   "id": "a1a6cc6a",
   "metadata": {},
   "outputs": [
    {
     "data": {
      "text/html": [
       "<div>\n",
       "<style scoped>\n",
       "    .dataframe tbody tr th:only-of-type {\n",
       "        vertical-align: middle;\n",
       "    }\n",
       "\n",
       "    .dataframe tbody tr th {\n",
       "        vertical-align: top;\n",
       "    }\n",
       "\n",
       "    .dataframe thead th {\n",
       "        text-align: right;\n",
       "    }\n",
       "</style>\n",
       "<table border=\"1\" class=\"dataframe\">\n",
       "  <thead>\n",
       "    <tr style=\"text-align: right;\">\n",
       "      <th></th>\n",
       "      <th>Country</th>\n",
       "      <th>Uri</th>\n",
       "      <th>Popularity</th>\n",
       "      <th>Title</th>\n",
       "      <th>Artist</th>\n",
       "      <th>Album/Single</th>\n",
       "      <th>Genre</th>\n",
       "      <th>Artist_followers</th>\n",
       "      <th>Explicit</th>\n",
       "      <th>Album</th>\n",
       "      <th>...</th>\n",
       "      <th>Sweden</th>\n",
       "      <th>Switzerland</th>\n",
       "      <th>Taiwan</th>\n",
       "      <th>Turkey</th>\n",
       "      <th>UK</th>\n",
       "      <th>USA</th>\n",
       "      <th>Popu_max</th>\n",
       "      <th>Top10_dummy</th>\n",
       "      <th>Top50_dummy</th>\n",
       "      <th>Cluster</th>\n",
       "    </tr>\n",
       "  </thead>\n",
       "  <tbody>\n",
       "    <tr>\n",
       "      <th>0</th>\n",
       "      <td>Global</td>\n",
       "      <td>https://open.spotify.com/track/6FyRXC8tJUh863J...</td>\n",
       "      <td>31833.95</td>\n",
       "      <td>adan y eva</td>\n",
       "      <td>Paulo Londra</td>\n",
       "      <td>single</td>\n",
       "      <td>argentine hip hop</td>\n",
       "      <td>11427104.0</td>\n",
       "      <td>False</td>\n",
       "      <td>Adan y Eva</td>\n",
       "      <td>...</td>\n",
       "      <td>0</td>\n",
       "      <td>0</td>\n",
       "      <td>0</td>\n",
       "      <td>0</td>\n",
       "      <td>0</td>\n",
       "      <td>0</td>\n",
       "      <td>10</td>\n",
       "      <td>1.0</td>\n",
       "      <td>1.0</td>\n",
       "      <td>global</td>\n",
       "    </tr>\n",
       "    <tr>\n",
       "      <th>1</th>\n",
       "      <td>USA</td>\n",
       "      <td>https://open.spotify.com/track/6FyRXC8tJUh863J...</td>\n",
       "      <td>8.00</td>\n",
       "      <td>adan y eva</td>\n",
       "      <td>Paulo Londra</td>\n",
       "      <td>single</td>\n",
       "      <td>argentine hip hop</td>\n",
       "      <td>11427104.0</td>\n",
       "      <td>False</td>\n",
       "      <td>Adan y Eva</td>\n",
       "      <td>...</td>\n",
       "      <td>0</td>\n",
       "      <td>0</td>\n",
       "      <td>0</td>\n",
       "      <td>0</td>\n",
       "      <td>0</td>\n",
       "      <td>1</td>\n",
       "      <td>191</td>\n",
       "      <td>0.0</td>\n",
       "      <td>0.0</td>\n",
       "      <td>english speaking and nordic</td>\n",
       "    </tr>\n",
       "    <tr>\n",
       "      <th>2</th>\n",
       "      <td>Argentina</td>\n",
       "      <td>https://open.spotify.com/track/6FyRXC8tJUh863J...</td>\n",
       "      <td>76924.40</td>\n",
       "      <td>adan y eva</td>\n",
       "      <td>Paulo Londra</td>\n",
       "      <td>single</td>\n",
       "      <td>argentine hip hop</td>\n",
       "      <td>11427104.0</td>\n",
       "      <td>False</td>\n",
       "      <td>Adan y Eva</td>\n",
       "      <td>...</td>\n",
       "      <td>0</td>\n",
       "      <td>0</td>\n",
       "      <td>0</td>\n",
       "      <td>0</td>\n",
       "      <td>0</td>\n",
       "      <td>0</td>\n",
       "      <td>1</td>\n",
       "      <td>1.0</td>\n",
       "      <td>1.0</td>\n",
       "      <td>spanish speaking</td>\n",
       "    </tr>\n",
       "    <tr>\n",
       "      <th>3</th>\n",
       "      <td>Belgium</td>\n",
       "      <td>https://open.spotify.com/track/6FyRXC8tJUh863J...</td>\n",
       "      <td>849.60</td>\n",
       "      <td>adan y eva</td>\n",
       "      <td>Paulo Londra</td>\n",
       "      <td>single</td>\n",
       "      <td>argentine hip hop</td>\n",
       "      <td>11427104.0</td>\n",
       "      <td>False</td>\n",
       "      <td>Adan y Eva</td>\n",
       "      <td>...</td>\n",
       "      <td>0</td>\n",
       "      <td>0</td>\n",
       "      <td>0</td>\n",
       "      <td>0</td>\n",
       "      <td>0</td>\n",
       "      <td>0</td>\n",
       "      <td>126</td>\n",
       "      <td>0.0</td>\n",
       "      <td>0.0</td>\n",
       "      <td>english speaking and nordic</td>\n",
       "    </tr>\n",
       "    <tr>\n",
       "      <th>4</th>\n",
       "      <td>Switzerland</td>\n",
       "      <td>https://open.spotify.com/track/6FyRXC8tJUh863J...</td>\n",
       "      <td>20739.10</td>\n",
       "      <td>adan y eva</td>\n",
       "      <td>Paulo Londra</td>\n",
       "      <td>single</td>\n",
       "      <td>argentine hip hop</td>\n",
       "      <td>11427104.0</td>\n",
       "      <td>False</td>\n",
       "      <td>Adan y Eva</td>\n",
       "      <td>...</td>\n",
       "      <td>0</td>\n",
       "      <td>1</td>\n",
       "      <td>0</td>\n",
       "      <td>0</td>\n",
       "      <td>0</td>\n",
       "      <td>0</td>\n",
       "      <td>21</td>\n",
       "      <td>0.0</td>\n",
       "      <td>1.0</td>\n",
       "      <td>english speaking and nordic</td>\n",
       "    </tr>\n",
       "  </tbody>\n",
       "</table>\n",
       "<p>5 rows × 151 columns</p>\n",
       "</div>"
      ],
      "text/plain": [
       "       Country                                                Uri  Popularity  \\\n",
       "0       Global  https://open.spotify.com/track/6FyRXC8tJUh863J...    31833.95   \n",
       "1          USA  https://open.spotify.com/track/6FyRXC8tJUh863J...        8.00   \n",
       "2    Argentina  https://open.spotify.com/track/6FyRXC8tJUh863J...    76924.40   \n",
       "3      Belgium  https://open.spotify.com/track/6FyRXC8tJUh863J...      849.60   \n",
       "4  Switzerland  https://open.spotify.com/track/6FyRXC8tJUh863J...    20739.10   \n",
       "\n",
       "        Title        Artist Album/Single              Genre Artist_followers  \\\n",
       "0  adan y eva  Paulo Londra       single  argentine hip hop       11427104.0   \n",
       "1  adan y eva  Paulo Londra       single  argentine hip hop       11427104.0   \n",
       "2  adan y eva  Paulo Londra       single  argentine hip hop       11427104.0   \n",
       "3  adan y eva  Paulo Londra       single  argentine hip hop       11427104.0   \n",
       "4  adan y eva  Paulo Londra       single  argentine hip hop       11427104.0   \n",
       "\n",
       "  Explicit       Album  ... Sweden Switzerland Taiwan Turkey UK USA Popu_max  \\\n",
       "0    False  Adan y Eva  ...      0           0      0      0  0   0       10   \n",
       "1    False  Adan y Eva  ...      0           0      0      0  0   1      191   \n",
       "2    False  Adan y Eva  ...      0           0      0      0  0   0        1   \n",
       "3    False  Adan y Eva  ...      0           0      0      0  0   0      126   \n",
       "4    False  Adan y Eva  ...      0           1      0      0  0   0       21   \n",
       "\n",
       "  Top10_dummy Top50_dummy                      Cluster  \n",
       "0         1.0         1.0                       global  \n",
       "1         0.0         0.0  english speaking and nordic  \n",
       "2         1.0         1.0             spanish speaking  \n",
       "3         0.0         0.0  english speaking and nordic  \n",
       "4         0.0         1.0  english speaking and nordic  \n",
       "\n",
       "[5 rows x 151 columns]"
      ]
     },
     "execution_count": 7,
     "metadata": {},
     "output_type": "execute_result"
    }
   ],
   "source": [
    "df.head()"
   ]
  },
  {
   "cell_type": "code",
   "execution_count": 8,
   "id": "aa42b291",
   "metadata": {},
   "outputs": [
    {
     "data": {
      "text/plain": [
       "(170633, 151)"
      ]
     },
     "execution_count": 8,
     "metadata": {},
     "output_type": "execute_result"
    }
   ],
   "source": [
    "df.shape"
   ]
  },
  {
   "cell_type": "code",
   "execution_count": 9,
   "id": "238c7b25",
   "metadata": {},
   "outputs": [],
   "source": [
    "#Reduce DF to only quantitative columns necessary for clustering\n",
    "\n",
    "df_cluster = df[['Top50_dummy','Popularity']]"
   ]
  },
  {
   "cell_type": "markdown",
   "id": "6a2ae014",
   "metadata": {},
   "source": [
    "## 2. The elbow technique"
   ]
  },
  {
   "cell_type": "code",
   "execution_count": 10,
   "id": "c363719e",
   "metadata": {},
   "outputs": [],
   "source": [
    "num_cl = range(1, 10) # Defines the range of potential clusters in the data.\n",
    "kmeans = [KMeans(n_clusters=i) for i in num_cl] # Defines k-means clusters in the range assigned above."
   ]
  },
  {
   "cell_type": "code",
   "execution_count": 11,
   "id": "35b5663e",
   "metadata": {},
   "outputs": [
    {
     "data": {
      "text/plain": [
       "[-29353079030488.31,\n",
       " -9726383873855.527,\n",
       " -4836448117666.154,\n",
       " -2876110960083.081,\n",
       " -1917022543258.0493,\n",
       " -1360012743137.2012,\n",
       " -1015865065035.2821,\n",
       " -782122005545.4424,\n",
       " -619485613924.9904]"
      ]
     },
     "execution_count": 11,
     "metadata": {},
     "output_type": "execute_result"
    }
   ],
   "source": [
    "# Creates a score that represents a rate of variation for the given cluster option.\n",
    "score = [kmeans[i].fit(df_cluster).score(df_cluster) for i in range(len(kmeans))] \n",
    "\n",
    "score"
   ]
  },
  {
   "cell_type": "code",
   "execution_count": 12,
   "id": "78e4c22f",
   "metadata": {},
   "outputs": [
    {
     "data": {
      "image/png": "[encoded data removed]",
      "text/plain": [
       "<Figure size 432x288 with 1 Axes>"
      ]
     },
     "metadata": {
      "needs_background": "light"
     },
     "output_type": "display_data"
    }
   ],
   "source": [
    "# Plot the elbow curve using PyLab.\n",
    "\n",
    "pl.plot(num_cl,score)\n",
    "pl.xlabel('Number of Clusters')\n",
    "pl.ylabel('Score')\n",
    "pl.title('Elbow Curve')\n",
    "pl.show()"
   ]
  },
  {
   "cell_type": "markdown",
   "id": "2dd5b4ca",
   "metadata": {},
   "source": [
    "#### A large jump is seen from two to three on the x-axis, but after this jump the curve straightens out. This implies that the optimal count for the clusters is three."
   ]
  },
  {
   "cell_type": "markdown",
   "id": "2cafdcba",
   "metadata": {},
   "source": [
    "## 3. K-means clustering"
   ]
  },
  {
   "cell_type": "code",
   "execution_count": 15,
   "id": "b794e901",
   "metadata": {},
   "outputs": [],
   "source": [
    "# Create the k-means object.\n",
    "\n",
    "kmeans = KMeans(n_clusters = 3) "
   ]
  },
  {
   "cell_type": "code",
   "execution_count": 16,
   "id": "672472ee",
   "metadata": {},
   "outputs": [
    {
     "data": {
      "text/plain": [
       "KMeans(n_clusters=3)"
      ]
     },
     "execution_count": 16,
     "metadata": {},
     "output_type": "execute_result"
    }
   ],
   "source": [
    "# Fit the k-means object to the data.\n",
    "\n",
    "kmeans.fit(df_cluster)"
   ]
  },
  {
   "cell_type": "code",
   "execution_count": 17,
   "id": "edb5189e",
   "metadata": {},
   "outputs": [
    {
     "data": {
      "text/html": [
       "<div>\n",
       "<style scoped>\n",
       "    .dataframe tbody tr th:only-of-type {\n",
       "        vertical-align: middle;\n",
       "    }\n",
       "\n",
       "    .dataframe tbody tr th {\n",
       "        vertical-align: top;\n",
       "    }\n",
       "\n",
       "    .dataframe thead th {\n",
       "        text-align: right;\n",
       "    }\n",
       "</style>\n",
       "<table border=\"1\" class=\"dataframe\">\n",
       "  <thead>\n",
       "    <tr style=\"text-align: right;\">\n",
       "      <th></th>\n",
       "      <th>Top50_dummy</th>\n",
       "      <th>Popularity</th>\n",
       "    </tr>\n",
       "  </thead>\n",
       "  <tbody>\n",
       "    <tr>\n",
       "      <th>0</th>\n",
       "      <td>1.0</td>\n",
       "      <td>31833.95</td>\n",
       "    </tr>\n",
       "    <tr>\n",
       "      <th>1</th>\n",
       "      <td>0.0</td>\n",
       "      <td>8.00</td>\n",
       "    </tr>\n",
       "    <tr>\n",
       "      <th>2</th>\n",
       "      <td>1.0</td>\n",
       "      <td>76924.40</td>\n",
       "    </tr>\n",
       "    <tr>\n",
       "      <th>3</th>\n",
       "      <td>0.0</td>\n",
       "      <td>849.60</td>\n",
       "    </tr>\n",
       "    <tr>\n",
       "      <th>4</th>\n",
       "      <td>1.0</td>\n",
       "      <td>20739.10</td>\n",
       "    </tr>\n",
       "  </tbody>\n",
       "</table>\n",
       "</div>"
      ],
      "text/plain": [
       "   Top50_dummy  Popularity\n",
       "0          1.0    31833.95\n",
       "1          0.0        8.00\n",
       "2          1.0    76924.40\n",
       "3          0.0      849.60\n",
       "4          1.0    20739.10"
      ]
     },
     "execution_count": 17,
     "metadata": {},
     "output_type": "execute_result"
    }
   ],
   "source": [
    "df_cluster.head()"
   ]
  },
  {
   "cell_type": "code",
   "execution_count": 18,
   "id": "b1f06560",
   "metadata": {},
   "outputs": [
    {
     "name": "stderr",
     "output_type": "stream",
     "text": [
      "/var/folders/9g/8yvgvw1x2d769tcx740vybk00000gn/T/ipykernel_1188/2810219287.py:1: SettingWithCopyWarning: \n",
      "A value is trying to be set on a copy of a slice from a DataFrame.\n",
      "Try using .loc[row_indexer,col_indexer] = value instead\n",
      "\n",
      "See the caveats in the documentation: https://pandas.pydata.org/pandas-docs/stable/user_guide/indexing.html#returning-a-view-versus-a-copy\n",
      "  df_cluster['clusters'] = kmeans.fit_predict(df_cluster)\n"
     ]
    }
   ],
   "source": [
    "df_cluster['clusters'] = kmeans.fit_predict(df_cluster)"
   ]
  },
  {
   "cell_type": "code",
   "execution_count": 19,
   "id": "34628038",
   "metadata": {},
   "outputs": [
    {
     "data": {
      "text/plain": [
       "0    150954\n",
       "1     16319\n",
       "2      3360\n",
       "Name: clusters, dtype: int64"
      ]
     },
     "execution_count": 19,
     "metadata": {},
     "output_type": "execute_result"
    }
   ],
   "source": [
    "df_cluster['clusters'].value_counts()"
   ]
  },
  {
   "cell_type": "code",
   "execution_count": 20,
   "id": "f087f119",
   "metadata": {},
   "outputs": [
    {
     "data": {
      "image/png": "[encoded data removed]",
      "text/plain": [
       "<Figure size 864x576 with 1 Axes>"
      ]
     },
     "metadata": {
      "needs_background": "light"
     },
     "output_type": "display_data"
    }
   ],
   "source": [
    "# Plot the clusters for the \"Top50_dummy\" and \"Popularity\" variables.\n",
    "\n",
    "plt.figure(figsize=(12,8))\n",
    "ax = sns.scatterplot(x=df_cluster['Top50_dummy'], y=df_cluster['Popularity'], hue=kmeans.labels_, s=100) \n",
    "# Here, you're subsetting `X` for the x and y arguments to avoid using their labels. \n",
    "# `hue` takes the value of the attribute `kmeans.labels_`, which is the result of running the k-means algorithm.\n",
    "# `s` represents the size of the points you want to see in the plot.\n",
    "\n",
    "ax.grid(False) # This removes the grid from the background.\n",
    "plt.xlabel('Top 50 Songs') # Label x-axis.\n",
    "plt.ylabel('Popularity of Artist') # Label y-axis.\n",
    "plt.show()"
   ]
  },
  {
   "cell_type": "code",
   "execution_count": 21,
   "id": "5b61b79a",
   "metadata": {},
   "outputs": [
    {
     "name": "stderr",
     "output_type": "stream",
     "text": [
      "/var/folders/9g/8yvgvw1x2d769tcx740vybk00000gn/T/ipykernel_1188/2821637660.py:1: SettingWithCopyWarning: \n",
      "A value is trying to be set on a copy of a slice from a DataFrame.\n",
      "Try using .loc[row_indexer,col_indexer] = value instead\n",
      "\n",
      "See the caveats in the documentation: https://pandas.pydata.org/pandas-docs/stable/user_guide/indexing.html#returning-a-view-versus-a-copy\n",
      "  df_cluster.loc[df_cluster['clusters'] == 2, 'cluster'] = 'dark purple'\n"
     ]
    }
   ],
   "source": [
    "df_cluster.loc[df_cluster['clusters'] == 2, 'cluster'] = 'dark purple'\n",
    "df_cluster.loc[df_cluster['clusters'] == 1, 'cluster'] = 'purple'\n",
    "df_cluster.loc[df_cluster['clusters'] == 0, 'cluster'] = 'pink'"
   ]
  },
  {
   "cell_type": "code",
   "execution_count": 22,
   "id": "080b6dec",
   "metadata": {},
   "outputs": [
    {
     "data": {
      "text/html": [
       "<div>\n",
       "<style scoped>\n",
       "    .dataframe tbody tr th:only-of-type {\n",
       "        vertical-align: middle;\n",
       "    }\n",
       "\n",
       "    .dataframe tbody tr th {\n",
       "        vertical-align: top;\n",
       "    }\n",
       "\n",
       "    .dataframe thead tr th {\n",
       "        text-align: left;\n",
       "    }\n",
       "\n",
       "    .dataframe thead tr:last-of-type th {\n",
       "        text-align: right;\n",
       "    }\n",
       "</style>\n",
       "<table border=\"1\" class=\"dataframe\">\n",
       "  <thead>\n",
       "    <tr>\n",
       "      <th></th>\n",
       "      <th colspan=\"2\" halign=\"left\">Top50_dummy</th>\n",
       "      <th colspan=\"2\" halign=\"left\">Popularity</th>\n",
       "    </tr>\n",
       "    <tr>\n",
       "      <th></th>\n",
       "      <th>mean</th>\n",
       "      <th>median</th>\n",
       "      <th>mean</th>\n",
       "      <th>median</th>\n",
       "    </tr>\n",
       "    <tr>\n",
       "      <th>cluster</th>\n",
       "      <th></th>\n",
       "      <th></th>\n",
       "      <th></th>\n",
       "      <th></th>\n",
       "    </tr>\n",
       "  </thead>\n",
       "  <tbody>\n",
       "    <tr>\n",
       "      <th>dark purple</th>\n",
       "      <td>0.977083</td>\n",
       "      <td>1.0</td>\n",
       "      <td>73661.085283</td>\n",
       "      <td>65436.30</td>\n",
       "    </tr>\n",
       "    <tr>\n",
       "      <th>pink</th>\n",
       "      <td>0.214648</td>\n",
       "      <td>0.0</td>\n",
       "      <td>1695.549679</td>\n",
       "      <td>336.15</td>\n",
       "    </tr>\n",
       "    <tr>\n",
       "      <th>purple</th>\n",
       "      <td>0.896195</td>\n",
       "      <td>1.0</td>\n",
       "      <td>25796.486503</td>\n",
       "      <td>23286.65</td>\n",
       "    </tr>\n",
       "  </tbody>\n",
       "</table>\n",
       "</div>"
      ],
      "text/plain": [
       "            Top50_dummy           Popularity          \n",
       "                   mean median          mean    median\n",
       "cluster                                               \n",
       "dark purple    0.977083    1.0  73661.085283  65436.30\n",
       "pink           0.214648    0.0   1695.549679    336.15\n",
       "purple         0.896195    1.0  25796.486503  23286.65"
      ]
     },
     "execution_count": 22,
     "metadata": {},
     "output_type": "execute_result"
    }
   ],
   "source": [
    "#Calculate decriptive statistics of clusters\n",
    "\n",
    "df_cluster.groupby('cluster').agg({'Top50_dummy':['mean', 'median'], \n",
    "                                   'Popularity':['mean', 'median']})"
   ]
  },
  {
   "cell_type": "markdown",
   "id": "b1067bee",
   "metadata": {},
   "source": [
    "#### Cluster 2 is the most populated cluster & the dark purple seems to have the best statistics. From the clustering, it looks like there is a higher chance of being in the Top 50 songs when the artist is more popular.\n",
    "\n",
    "#### These results could be useful for future steps of an analytics project when understanding which artists are most popular in each of the counties and if they change or stay the same in each country."
   ]
  },
  {
   "cell_type": "code",
   "execution_count": 23,
   "id": "daa2352a",
   "metadata": {},
   "outputs": [],
   "source": [
    "df_cluster.to_excel(r'/Users/cboyd/Documents/05-2022 Spotify Analysis/02 Data/Prepared Data/World_Spotify_chartdata.xlsx')"
   ]
  },
  {
   "cell_type": "code",
   "execution_count": null,
   "id": "542bf3ce",
   "metadata": {},
   "outputs": [],
   "source": []
  }
 ],
 "metadata": {
  "kernelspec": {
   "display_name": "Python 3 (ipykernel)",
   "language": "python",
   "name": "python3"
  },
  "language_info": {
   "codemirror_mode": {
    "name": "ipython",
    "version": 3
   },
   "file_extension": ".py",
   "mimetype": "text/x-python",
   "name": "python",
   "nbconvert_exporter": "python",
   "pygments_lexer": "ipython3",
   "version": "3.9.12"
  }
 },
 "nbformat": 4,
 "nbformat_minor": 5
}
